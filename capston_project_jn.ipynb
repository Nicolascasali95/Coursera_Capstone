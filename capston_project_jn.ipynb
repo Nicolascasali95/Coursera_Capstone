{
 "cells": [
  {
   "cell_type": "markdown",
   "metadata": {},
   "source": [
    "<h1><center>Capstone Project</center></h1>"
   ]
  },
  {
   "cell_type": "markdown",
   "metadata": {},
   "source": [
    "This is the repository for the IBM data science professional certificate needed for the capstone project \n",
    "Here I will try to cluster similar neghborhoods in the city of Toronto.\n"
   ]
  },
  {
   "cell_type": "code",
   "execution_count": 1,
   "metadata": {},
   "outputs": [
    {
     "name": "stdout",
     "output_type": "stream",
     "text": [
      "Hello Capstone Project Course!\n"
     ]
    }
   ],
   "source": [
    "#importing the necessary libraries\n",
    "\n",
    "import pandas as pd\n",
    "import numpy as np\n",
    "from urllib.request import urlopen\n",
    "from bs4 import BeautifulSoup\n",
    "print ('Hello Capstone Project Course!')"
   ]
  },
  {
   "cell_type": "code",
   "execution_count": 3,
   "metadata": {},
   "outputs": [],
   "source": [
    "#getting the html with urlopen\n",
    "url = 'https://en.wikipedia.org/wiki/List_of_postal_codes_of_Canada:_M'\n",
    "html = urlopen(url)"
   ]
  },
  {
   "cell_type": "code",
   "execution_count": 4,
   "metadata": {},
   "outputs": [
    {
     "data": {
      "text/plain": [
       "bs4.BeautifulSoup"
      ]
     },
     "execution_count": 4,
     "metadata": {},
     "output_type": "execute_result"
    }
   ],
   "source": [
    "# create a BeautifulSoup object from the html file\n",
    "soup = BeautifulSoup(html, 'lxml')\n",
    "type(soup)"
   ]
  },
  {
   "cell_type": "markdown",
   "metadata": {},
   "source": [
    "Now it is time to extract the table from the BeautifulSoup object!"
   ]
  },
  {
   "cell_type": "code",
   "execution_count": 6,
   "metadata": {},
   "outputs": [
    {
     "name": "stdout",
     "output_type": "stream",
     "text": [
      "[<tr>\n",
      "<th>Postcode</th>\n",
      "<th>Borough</th>\n",
      "<th>Neighbourhood\n",
      "</th></tr>, <tr>\n",
      "<td>M1A</td>\n",
      "<td>Not assigned</td>\n",
      "<td>Not assigned\n",
      "</td></tr>, <tr>\n",
      "<td>M2A</td>\n",
      "<td>Not assigned</td>\n",
      "<td>Not assigned\n",
      "</td></tr>, <tr>\n",
      "<td>M3A</td>\n",
      "<td><a href=\"/wiki/North_York\" title=\"North York\">North York</a></td>\n",
      "<td><a href=\"/wiki/Parkwoods\" title=\"Parkwoods\">Parkwoods</a>\n",
      "</td></tr>, <tr>\n",
      "<td>M4A</td>\n",
      "<td><a href=\"/wiki/North_York\" title=\"North York\">North York</a></td>\n",
      "<td><a href=\"/wiki/Victoria_Village\" title=\"Victoria Village\">Victoria Village</a>\n",
      "</td></tr>, <tr>\n",
      "<td>M5A</td>\n",
      "<td><a href=\"/wiki/Downtown_Toronto\" title=\"Downtown Toronto\">Downtown Toronto</a></td>\n",
      "<td><a href=\"/wiki/Harbourfront_(Toronto)\" title=\"Harbourfront (Toronto)\">Harbourfront</a>\n",
      "</td></tr>, <tr>\n",
      "<td>M5A</td>\n",
      "<td><a href=\"/wiki/Downtown_Toronto\" title=\"Downtown Toronto\">Downtown Toronto</a></td>\n",
      "<td><a href=\"/wiki/Regent_Park\" title=\"Regent Park\">Regent Park</a>\n",
      "</td></tr>, <tr>\n",
      "<td>M6A</td>\n",
      "<td><a href=\"/wiki/North_York\" title=\"North York\">North York</a></td>\n",
      "<td><a href=\"/wiki/Lawrence_Heights\" title=\"Lawrence Heights\">Lawrence Heights</a>\n",
      "</td></tr>, <tr>\n",
      "<td>M6A</td>\n",
      "<td><a href=\"/wiki/North_York\" title=\"North York\">North York</a></td>\n",
      "<td><a href=\"/wiki/Lawrence_Manor\" title=\"Lawrence Manor\">Lawrence Manor</a>\n",
      "</td></tr>, <tr>\n",
      "<td>M7A</td>\n",
      "<td><a href=\"/wiki/Queen%27s_Park_(Toronto)\" title=\"Queen's Park (Toronto)\">Queen's Park</a></td>\n",
      "<td>Not assigned\n",
      "</td></tr>]\n"
     ]
    }
   ],
   "source": [
    "#find all the row elements\n",
    "rows = soup.find_all('tr')\n",
    "print(rows[:10])  #print to check things are going like planned"
   ]
  },
  {
   "cell_type": "code",
   "execution_count": 47,
   "metadata": {},
   "outputs": [
    {
     "name": "stdout",
     "output_type": "stream",
     "text": [
      "['[]', '[M1A, Not assigned, Not assigned\\n]', '[M2A, Not assigned, Not assigned\\n]', '[M3A, North York, Parkwoods\\n]', '[M4A, North York, Victoria Village\\n]', '[M5A, Downtown Toronto, Harbourfront\\n]', '[M5A, Downtown Toronto, Regent Park\\n]', '[M6A, North York, Lawrence Heights\\n]', '[M6A, North York, Lawrence Manor\\n]', \"[M7A, Queen's Park, Not assigned\\n]\"]\n",
      "['[M8Z, Etobicoke, Mimico NW\\n]', '[M8Z, Etobicoke, The Queensway West\\n]', '[M8Z, Etobicoke, Royal York South West\\n]', '[M8Z, Etobicoke, South of Bloor\\n]', '[M9Z, Not assigned, Not assigned\\n]', '[]', '[\\n, \\n]', '[\\n\\n\\nNL\\n\\nNS\\n\\nPE\\n\\nNB\\n\\nQC\\n\\nON\\n\\nMB\\n\\nSK\\n\\nAB\\n\\nBC\\n\\nNU/NT\\n\\nYT\\n\\n\\nA\\n\\nB\\n\\nC\\n\\nE\\n\\nG\\n\\nH\\n\\nJ\\n\\nK\\n\\nL\\n\\nM\\n\\nN\\n\\nP\\n\\nR\\n\\nS\\n\\nT\\n\\nV\\n\\nX\\n\\nY\\n\\n, NL\\n, NS\\n, PE\\n, NB\\n, QC\\n, ON\\n, MB\\n, SK\\n, AB\\n, BC\\n, NU/NT\\n, YT\\n, A\\n, B\\n, C\\n, E\\n, G\\n, H\\n, J\\n, K\\n, L\\n, M\\n, N\\n, P\\n, R\\n, S\\n, T\\n, V\\n, X\\n, Y\\n]', '[NL\\n, NS\\n, PE\\n, NB\\n, QC\\n, ON\\n, MB\\n, SK\\n, AB\\n, BC\\n, NU/NT\\n, YT\\n]', '[A\\n, B\\n, C\\n, E\\n, G\\n, H\\n, J\\n, K\\n, L\\n, M\\n, N\\n, P\\n, R\\n, S\\n, T\\n, V\\n, X\\n, Y\\n]']\n"
     ]
    }
   ],
   "source": [
    "#get a list composed by all the rows in the rows element\n",
    "list_rows = []\n",
    "for row in rows:\n",
    "    row_td = row.find_all('td')\n",
    "    str_cells = str(row_td)\n",
    "    cleantext = BeautifulSoup(str_cells, \"lxml\").get_text()\n",
    "    list_rows.append(cleantext)\n",
    "print(list_rows[0:10])\n",
    "print (list_rows[-10:])\n",
    "    "
   ]
  },
  {
   "cell_type": "code",
   "execution_count": 9,
   "metadata": {},
   "outputs": [],
   "source": [
    "#get rid of undesired elements inside the list\n",
    "list_rows = list_rows[1:-5]"
   ]
  },
  {
   "cell_type": "code",
   "execution_count": 11,
   "metadata": {},
   "outputs": [
    {
     "data": {
      "text/html": [
       "<div>\n",
       "<style scoped>\n",
       "    .dataframe tbody tr th:only-of-type {\n",
       "        vertical-align: middle;\n",
       "    }\n",
       "\n",
       "    .dataframe tbody tr th {\n",
       "        vertical-align: top;\n",
       "    }\n",
       "\n",
       "    .dataframe thead th {\n",
       "        text-align: right;\n",
       "    }\n",
       "</style>\n",
       "<table border=\"1\" class=\"dataframe\">\n",
       "  <thead>\n",
       "    <tr style=\"text-align: right;\">\n",
       "      <th></th>\n",
       "      <th>0</th>\n",
       "    </tr>\n",
       "  </thead>\n",
       "  <tbody>\n",
       "    <tr>\n",
       "      <th>0</th>\n",
       "      <td>[M1A, Not assigned, Not assigned\\n]</td>\n",
       "    </tr>\n",
       "    <tr>\n",
       "      <th>1</th>\n",
       "      <td>[M2A, Not assigned, Not assigned\\n]</td>\n",
       "    </tr>\n",
       "    <tr>\n",
       "      <th>2</th>\n",
       "      <td>[M3A, North York, Parkwoods\\n]</td>\n",
       "    </tr>\n",
       "    <tr>\n",
       "      <th>3</th>\n",
       "      <td>[M4A, North York, Victoria Village\\n]</td>\n",
       "    </tr>\n",
       "    <tr>\n",
       "      <th>4</th>\n",
       "      <td>[M5A, Downtown Toronto, Harbourfront\\n]</td>\n",
       "    </tr>\n",
       "  </tbody>\n",
       "</table>\n",
       "</div>"
      ],
      "text/plain": [
       "                                         0\n",
       "0      [M1A, Not assigned, Not assigned\\n]\n",
       "1      [M2A, Not assigned, Not assigned\\n]\n",
       "2           [M3A, North York, Parkwoods\\n]\n",
       "3    [M4A, North York, Victoria Village\\n]\n",
       "4  [M5A, Downtown Toronto, Harbourfront\\n]"
      ]
     },
     "execution_count": 11,
     "metadata": {},
     "output_type": "execute_result"
    }
   ],
   "source": [
    "#creating a dataframe from the list\n",
    "df = pd.DataFrame(list_rows)\n",
    "df.head()"
   ]
  },
  {
   "cell_type": "markdown",
   "metadata": {},
   "source": [
    "## Data Manipulation and Cleaning\n",
    "Now that we have a pandas DataFrame, it is time to perform operations in order to obtain a ready-to-use DataFrame so we can cluster the Toronto neighborhoods"
   ]
  },
  {
   "cell_type": "markdown",
   "metadata": {},
   "source": [
    "1. Lets start by splitting the data into the columns"
   ]
  },
  {
   "cell_type": "code",
   "execution_count": 12,
   "metadata": {},
   "outputs": [
    {
     "data": {
      "text/html": [
       "<div>\n",
       "<style scoped>\n",
       "    .dataframe tbody tr th:only-of-type {\n",
       "        vertical-align: middle;\n",
       "    }\n",
       "\n",
       "    .dataframe tbody tr th {\n",
       "        vertical-align: top;\n",
       "    }\n",
       "\n",
       "    .dataframe thead th {\n",
       "        text-align: right;\n",
       "    }\n",
       "</style>\n",
       "<table border=\"1\" class=\"dataframe\">\n",
       "  <thead>\n",
       "    <tr style=\"text-align: right;\">\n",
       "      <th></th>\n",
       "      <th>0</th>\n",
       "      <th>1</th>\n",
       "      <th>2</th>\n",
       "    </tr>\n",
       "  </thead>\n",
       "  <tbody>\n",
       "    <tr>\n",
       "      <th>0</th>\n",
       "      <td>[M1A</td>\n",
       "      <td>Not assigned</td>\n",
       "      <td>Not assigned\\n]</td>\n",
       "    </tr>\n",
       "    <tr>\n",
       "      <th>1</th>\n",
       "      <td>[M2A</td>\n",
       "      <td>Not assigned</td>\n",
       "      <td>Not assigned\\n]</td>\n",
       "    </tr>\n",
       "    <tr>\n",
       "      <th>2</th>\n",
       "      <td>[M3A</td>\n",
       "      <td>North York</td>\n",
       "      <td>Parkwoods\\n]</td>\n",
       "    </tr>\n",
       "    <tr>\n",
       "      <th>3</th>\n",
       "      <td>[M4A</td>\n",
       "      <td>North York</td>\n",
       "      <td>Victoria Village\\n]</td>\n",
       "    </tr>\n",
       "    <tr>\n",
       "      <th>4</th>\n",
       "      <td>[M5A</td>\n",
       "      <td>Downtown Toronto</td>\n",
       "      <td>Harbourfront\\n]</td>\n",
       "    </tr>\n",
       "    <tr>\n",
       "      <th>5</th>\n",
       "      <td>[M5A</td>\n",
       "      <td>Downtown Toronto</td>\n",
       "      <td>Regent Park\\n]</td>\n",
       "    </tr>\n",
       "    <tr>\n",
       "      <th>6</th>\n",
       "      <td>[M6A</td>\n",
       "      <td>North York</td>\n",
       "      <td>Lawrence Heights\\n]</td>\n",
       "    </tr>\n",
       "    <tr>\n",
       "      <th>7</th>\n",
       "      <td>[M6A</td>\n",
       "      <td>North York</td>\n",
       "      <td>Lawrence Manor\\n]</td>\n",
       "    </tr>\n",
       "    <tr>\n",
       "      <th>8</th>\n",
       "      <td>[M7A</td>\n",
       "      <td>Queen's Park</td>\n",
       "      <td>Not assigned\\n]</td>\n",
       "    </tr>\n",
       "    <tr>\n",
       "      <th>9</th>\n",
       "      <td>[M8A</td>\n",
       "      <td>Not assigned</td>\n",
       "      <td>Not assigned\\n]</td>\n",
       "    </tr>\n",
       "  </tbody>\n",
       "</table>\n",
       "</div>"
      ],
      "text/plain": [
       "      0                  1                     2\n",
       "0  [M1A       Not assigned       Not assigned\\n]\n",
       "1  [M2A       Not assigned       Not assigned\\n]\n",
       "2  [M3A         North York          Parkwoods\\n]\n",
       "3  [M4A         North York   Victoria Village\\n]\n",
       "4  [M5A   Downtown Toronto       Harbourfront\\n]\n",
       "5  [M5A   Downtown Toronto        Regent Park\\n]\n",
       "6  [M6A         North York   Lawrence Heights\\n]\n",
       "7  [M6A         North York     Lawrence Manor\\n]\n",
       "8  [M7A       Queen's Park       Not assigned\\n]\n",
       "9  [M8A       Not assigned       Not assigned\\n]"
      ]
     },
     "execution_count": 12,
     "metadata": {},
     "output_type": "execute_result"
    }
   ],
   "source": [
    "#splitting column 0 using the separator ','\n",
    "df1 = df[0].str.split(',', expand=True)\n",
    "df1.head(10)"
   ]
  },
  {
   "cell_type": "markdown",
   "metadata": {},
   "source": [
    "And lets get rid of the unwanted characters such as '['"
   ]
  },
  {
   "cell_type": "code",
   "execution_count": 13,
   "metadata": {},
   "outputs": [
    {
     "data": {
      "text/html": [
       "<div>\n",
       "<style scoped>\n",
       "    .dataframe tbody tr th:only-of-type {\n",
       "        vertical-align: middle;\n",
       "    }\n",
       "\n",
       "    .dataframe tbody tr th {\n",
       "        vertical-align: top;\n",
       "    }\n",
       "\n",
       "    .dataframe thead th {\n",
       "        text-align: right;\n",
       "    }\n",
       "</style>\n",
       "<table border=\"1\" class=\"dataframe\">\n",
       "  <thead>\n",
       "    <tr style=\"text-align: right;\">\n",
       "      <th></th>\n",
       "      <th>0</th>\n",
       "      <th>1</th>\n",
       "      <th>2</th>\n",
       "    </tr>\n",
       "  </thead>\n",
       "  <tbody>\n",
       "    <tr>\n",
       "      <th>0</th>\n",
       "      <td>M1A</td>\n",
       "      <td>Not assigned</td>\n",
       "      <td>Not assigned</td>\n",
       "    </tr>\n",
       "    <tr>\n",
       "      <th>1</th>\n",
       "      <td>M2A</td>\n",
       "      <td>Not assigned</td>\n",
       "      <td>Not assigned</td>\n",
       "    </tr>\n",
       "    <tr>\n",
       "      <th>2</th>\n",
       "      <td>M3A</td>\n",
       "      <td>North York</td>\n",
       "      <td>Parkwoods</td>\n",
       "    </tr>\n",
       "    <tr>\n",
       "      <th>3</th>\n",
       "      <td>M4A</td>\n",
       "      <td>North York</td>\n",
       "      <td>Victoria Village</td>\n",
       "    </tr>\n",
       "    <tr>\n",
       "      <th>4</th>\n",
       "      <td>M5A</td>\n",
       "      <td>Downtown Toronto</td>\n",
       "      <td>Harbourfront</td>\n",
       "    </tr>\n",
       "    <tr>\n",
       "      <th>5</th>\n",
       "      <td>M5A</td>\n",
       "      <td>Downtown Toronto</td>\n",
       "      <td>Regent Park</td>\n",
       "    </tr>\n",
       "    <tr>\n",
       "      <th>6</th>\n",
       "      <td>M6A</td>\n",
       "      <td>North York</td>\n",
       "      <td>Lawrence Heights</td>\n",
       "    </tr>\n",
       "    <tr>\n",
       "      <th>7</th>\n",
       "      <td>M6A</td>\n",
       "      <td>North York</td>\n",
       "      <td>Lawrence Manor</td>\n",
       "    </tr>\n",
       "    <tr>\n",
       "      <th>8</th>\n",
       "      <td>M7A</td>\n",
       "      <td>Queen's Park</td>\n",
       "      <td>Not assigned</td>\n",
       "    </tr>\n",
       "    <tr>\n",
       "      <th>9</th>\n",
       "      <td>M8A</td>\n",
       "      <td>Not assigned</td>\n",
       "      <td>Not assigned</td>\n",
       "    </tr>\n",
       "  </tbody>\n",
       "</table>\n",
       "</div>"
      ],
      "text/plain": [
       "     0                  1                  2\n",
       "0  M1A       Not assigned       Not assigned\n",
       "1  M2A       Not assigned       Not assigned\n",
       "2  M3A         North York          Parkwoods\n",
       "3  M4A         North York   Victoria Village\n",
       "4  M5A   Downtown Toronto       Harbourfront\n",
       "5  M5A   Downtown Toronto        Regent Park\n",
       "6  M6A         North York   Lawrence Heights\n",
       "7  M6A         North York     Lawrence Manor\n",
       "8  M7A       Queen's Park       Not assigned\n",
       "9  M8A       Not assigned       Not assigned"
      ]
     },
     "execution_count": 13,
     "metadata": {},
     "output_type": "execute_result"
    }
   ],
   "source": [
    "#using the strip method to remove unwanted characters\n",
    "df1[0] = df1[0].str.strip('[')\n",
    "df1[2] = df1[2].str.strip('\\n]')\n",
    "df1.head(10)"
   ]
  },
  {
   "cell_type": "markdown",
   "metadata": {},
   "source": [
    "It looks like our table is missing the column headers, lets change that!"
   ]
  },
  {
   "cell_type": "markdown",
   "metadata": {},
   "source": [
    "Finally, lets rename our columns in df1"
   ]
  },
  {
   "cell_type": "code",
   "execution_count": 14,
   "metadata": {},
   "outputs": [
    {
     "data": {
      "text/html": [
       "<div>\n",
       "<style scoped>\n",
       "    .dataframe tbody tr th:only-of-type {\n",
       "        vertical-align: middle;\n",
       "    }\n",
       "\n",
       "    .dataframe tbody tr th {\n",
       "        vertical-align: top;\n",
       "    }\n",
       "\n",
       "    .dataframe thead th {\n",
       "        text-align: right;\n",
       "    }\n",
       "</style>\n",
       "<table border=\"1\" class=\"dataframe\">\n",
       "  <thead>\n",
       "    <tr style=\"text-align: right;\">\n",
       "      <th></th>\n",
       "      <th>PostalCode</th>\n",
       "      <th>Borough</th>\n",
       "      <th>Neighborhood</th>\n",
       "    </tr>\n",
       "  </thead>\n",
       "  <tbody>\n",
       "    <tr>\n",
       "      <th>0</th>\n",
       "      <td>M1A</td>\n",
       "      <td>Not assigned</td>\n",
       "      <td>Not assigned</td>\n",
       "    </tr>\n",
       "    <tr>\n",
       "      <th>1</th>\n",
       "      <td>M2A</td>\n",
       "      <td>Not assigned</td>\n",
       "      <td>Not assigned</td>\n",
       "    </tr>\n",
       "    <tr>\n",
       "      <th>2</th>\n",
       "      <td>M3A</td>\n",
       "      <td>North York</td>\n",
       "      <td>Parkwoods</td>\n",
       "    </tr>\n",
       "    <tr>\n",
       "      <th>3</th>\n",
       "      <td>M4A</td>\n",
       "      <td>North York</td>\n",
       "      <td>Victoria Village</td>\n",
       "    </tr>\n",
       "    <tr>\n",
       "      <th>4</th>\n",
       "      <td>M5A</td>\n",
       "      <td>Downtown Toronto</td>\n",
       "      <td>Harbourfront</td>\n",
       "    </tr>\n",
       "  </tbody>\n",
       "</table>\n",
       "</div>"
      ],
      "text/plain": [
       "  PostalCode            Borough       Neighborhood\n",
       "0        M1A       Not assigned       Not assigned\n",
       "1        M2A       Not assigned       Not assigned\n",
       "2        M3A         North York          Parkwoods\n",
       "3        M4A         North York   Victoria Village\n",
       "4        M5A   Downtown Toronto       Harbourfront"
      ]
     },
     "execution_count": 14,
     "metadata": {},
     "output_type": "execute_result"
    }
   ],
   "source": [
    "df1.columns = ['PostalCode','Borough','Neighborhood']\n",
    "df1.head()\n",
    " "
   ]
  },
  {
   "cell_type": "markdown",
   "metadata": {},
   "source": [
    "2. Now it is time to format the table so it is in line with the required output."
   ]
  },
  {
   "cell_type": "markdown",
   "metadata": {},
   "source": [
    "Lets start by removing the rows that do not contain any information in the 'Borough' column"
   ]
  },
  {
   "cell_type": "code",
   "execution_count": 15,
   "metadata": {},
   "outputs": [
    {
     "data": {
      "text/plain": [
       "(211, 3)"
      ]
     },
     "execution_count": 15,
     "metadata": {},
     "output_type": "execute_result"
    }
   ],
   "source": [
    "df1 = df1[~df1['Borough'].str.contains('Not assigned')]  \n",
    "df1.shape\n"
   ]
  },
  {
   "cell_type": "code",
   "execution_count": 16,
   "metadata": {},
   "outputs": [],
   "source": [
    "dfprueba= df1  #This is just to aviod screwing up the original DataFrame in case things do not go as expected\n"
   ]
  },
  {
   "cell_type": "code",
   "execution_count": 17,
   "metadata": {},
   "outputs": [],
   "source": [
    "\n",
    "dfprueba.at[8,'Neighborhood'] = \"Queen's Park\"   #Assign the same name as the borough"
   ]
  },
  {
   "cell_type": "code",
   "execution_count": 49,
   "metadata": {},
   "outputs": [
    {
     "data": {
      "text/plain": [
       "(103, 3)"
      ]
     },
     "execution_count": 49,
     "metadata": {},
     "output_type": "execute_result"
    }
   ],
   "source": [
    "new_dict = {'PostalCode': [], 'Borough':[], 'Neighborhood':[]}\n",
    "for postalcode in dfprueba['PostalCode'].unique():\n",
    "    df_temp = dfprueba[dfprueba['PostalCode']==postalcode]\n",
    "    neighbors= df_temp['Neighborhood'].str.cat(sep = ',')\n",
    "    borough = df_temp.Borough.values[0]\n",
    "    new_dict['PostalCode'].append(postalcode)\n",
    "    new_dict['Borough'].append(borough)\n",
    "    new_dict['Neighborhood'].append(neighbors)\n",
    "toronto_df = pd.DataFrame(new_dict)\n",
    "toronto_df.shape\n",
    "    "
   ]
  }
 ],
 "metadata": {
  "kernelspec": {
   "display_name": "Python 3",
   "language": "python",
   "name": "python3"
  },
  "language_info": {
   "codemirror_mode": {
    "name": "ipython",
    "version": 3
   },
   "file_extension": ".py",
   "mimetype": "text/x-python",
   "name": "python",
   "nbconvert_exporter": "python",
   "pygments_lexer": "ipython3",
   "version": "3.6.8"
  }
 },
 "nbformat": 4,
 "nbformat_minor": 2
}
